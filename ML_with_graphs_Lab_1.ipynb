{
  "nbformat": 4,
  "nbformat_minor": 0,
  "metadata": {
    "kernelspec": {
      "display_name": "Python 3",
      "language": "python",
      "name": "python3"
    },
    "language_info": {
      "codemirror_mode": {
        "name": "ipython",
        "version": 3
      },
      "file_extension": ".py",
      "mimetype": "text/x-python",
      "name": "python",
      "nbconvert_exporter": "python",
      "pygments_lexer": "ipython3",
      "version": "3.7.3"
    },
    "colab": {
      "provenance": [],
      "machine_shape": "hm"
    }
  },
  "cells": [
    {
      "cell_type": "markdown",
      "metadata": {
        "id": "XuXWJLEm2UWS"
      },
      "source": [
        "# **CS224W - Colab 1**"
      ]
    },
    {
      "cell_type": "markdown",
      "metadata": {
        "id": "8gzsP50bF6Gb"
      },
      "source": [
        "In this Colab, we will write a full pipeline for **learning node embeddings**.\n",
        "We will go through the following 3 steps.\n",
        "\n",
        "To start, we will load a classic graph in network science, the [Karate Club Network](https://en.wikipedia.org/wiki/Zachary%27s_karate_club). We will explore multiple graph statistics for that graph.\n",
        "\n",
        "We will then work together to transform the graph structure into a PyTorch tensor, so that we can perform machine learning over the graph.\n",
        "\n",
        "Finally, we will finish the first learning algorithm on graphs: a node embedding model. For simplicity, our model here is simpler than DeepWalk / node2vec algorithms taught in the lecture. But it's still rewarding and challenging, as we will write it from scratch via PyTorch.\n",
        "\n",
        "Now let's get started! This Colab should take 1-2 hours to complete.\n",
        "\n",
        "**Note**: Make sure to **restart and run all** before submission, so that the intermediate variables / packages will carry over to the next cell"
      ]
    },
    {
      "cell_type": "markdown",
      "metadata": {
        "id": "Nwwq0nSdmsOL"
      },
      "source": [
        "# 1 Graph Basics\n",
        "To start, we will load a classic graph in network science, the [Karate Club Network](https://en.wikipedia.org/wiki/Zachary%27s_karate_club). We will explore multiple graph statistics for that graph."
      ]
    },
    {
      "cell_type": "markdown",
      "metadata": {
        "id": "FDkpByYYfSzb"
      },
      "source": [
        "## Setup\n",
        "We will heavily use NetworkX in this Colab."
      ]
    },
    {
      "cell_type": "code",
      "metadata": {
        "id": "VWPkJjPAfVNW"
      },
      "source": [
        "import networkx as nx"
      ],
      "execution_count": 5,
      "outputs": []
    },
    {
      "cell_type": "markdown",
      "metadata": {
        "id": "VqUnYT5qUZYh"
      },
      "source": [
        "## Zachary's karate club network\n",
        "\n",
        "The [Karate Club Network](https://en.wikipedia.org/wiki/Zachary%27s_karate_club) is a graph which describes a social network of 34 members of a karate club and documents links between members who interacted outside the club."
      ]
    },
    {
      "cell_type": "code",
      "metadata": {
        "id": "VIETqEfrfy5Y",
        "colab": {
          "base_uri": "https://localhost:8080/",
          "height": 186
        },
        "outputId": "ab16afef-8e4d-42b8-a111-e9162a447ff9"
      },
      "source": [
        "G = nx.karate_club_graph()\n",
        "\n",
        "# G is an undirected graph\n",
        "type(G)"
      ],
      "execution_count": 6,
      "outputs": [
        {
          "output_type": "execute_result",
          "data": {
            "text/plain": [
              "networkx.classes.graph.Graph"
            ],
            "text/html": [
              "<div style=\"max-width:800px; border: 1px solid var(--colab-border-color);\"><style>\n",
              "      pre.function-repr-contents {\n",
              "        overflow-x: auto;\n",
              "        padding: 8px 12px;\n",
              "        max-height: 500px;\n",
              "      }\n",
              "\n",
              "      pre.function-repr-contents.function-repr-contents-collapsed {\n",
              "        cursor: pointer;\n",
              "        max-height: 100px;\n",
              "      }\n",
              "    </style>\n",
              "    <pre style=\"white-space: initial; background:\n",
              "         var(--colab-secondary-surface-color); padding: 8px 12px;\n",
              "         border-bottom: 1px solid var(--colab-border-color);\"><b>networkx.classes.graph.Graph</b><br/>def __init__(incoming_graph_data=None, **attr)</pre><pre class=\"function-repr-contents function-repr-contents-collapsed\" style=\"\"><a class=\"filepath\" style=\"display:none\" href=\"#\">/usr/local/lib/python3.10/dist-packages/networkx/classes/graph.py</a>Base class for undirected graphs.\n",
              "\n",
              "A Graph stores nodes and edges with optional data, or attributes.\n",
              "\n",
              "Graphs hold undirected edges.  Self loops are allowed but multiple\n",
              "(parallel) edges are not.\n",
              "\n",
              "Nodes can be arbitrary (hashable) Python objects with optional\n",
              "key/value attributes, except that `None` is not allowed as a node.\n",
              "\n",
              "Edges are represented as links between nodes with optional\n",
              "key/value attributes.\n",
              "\n",
              "Parameters\n",
              "----------\n",
              "incoming_graph_data : input graph (optional, default: None)\n",
              "    Data to initialize graph. If None (default) an empty\n",
              "    graph is created.  The data can be any format that is supported\n",
              "    by the to_networkx_graph() function, currently including edge list,\n",
              "    dict of dicts, dict of lists, NetworkX graph, 2D NumPy array, SciPy\n",
              "    sparse matrix, or PyGraphviz graph.\n",
              "\n",
              "attr : keyword arguments, optional (default= no attributes)\n",
              "    Attributes to add to graph as key=value pairs.\n",
              "\n",
              "See Also\n",
              "--------\n",
              "DiGraph\n",
              "MultiGraph\n",
              "MultiDiGraph\n",
              "\n",
              "Examples\n",
              "--------\n",
              "Create an empty graph structure (a &quot;null graph&quot;) with no nodes and\n",
              "no edges.\n",
              "\n",
              "&gt;&gt;&gt; G = nx.Graph()\n",
              "\n",
              "G can be grown in several ways.\n",
              "\n",
              "**Nodes:**\n",
              "\n",
              "Add one node at a time:\n",
              "\n",
              "&gt;&gt;&gt; G.add_node(1)\n",
              "\n",
              "Add the nodes from any container (a list, dict, set or\n",
              "even the lines from a file or the nodes from another graph).\n",
              "\n",
              "&gt;&gt;&gt; G.add_nodes_from([2, 3])\n",
              "&gt;&gt;&gt; G.add_nodes_from(range(100, 110))\n",
              "&gt;&gt;&gt; H = nx.path_graph(10)\n",
              "&gt;&gt;&gt; G.add_nodes_from(H)\n",
              "\n",
              "In addition to strings and integers any hashable Python object\n",
              "(except None) can represent a node, e.g. a customized node object,\n",
              "or even another Graph.\n",
              "\n",
              "&gt;&gt;&gt; G.add_node(H)\n",
              "\n",
              "**Edges:**\n",
              "\n",
              "G can also be grown by adding edges.\n",
              "\n",
              "Add one edge,\n",
              "\n",
              "&gt;&gt;&gt; G.add_edge(1, 2)\n",
              "\n",
              "a list of edges,\n",
              "\n",
              "&gt;&gt;&gt; G.add_edges_from([(1, 2), (1, 3)])\n",
              "\n",
              "or a collection of edges,\n",
              "\n",
              "&gt;&gt;&gt; G.add_edges_from(H.edges)\n",
              "\n",
              "If some edges connect nodes not yet in the graph, the nodes\n",
              "are added automatically.  There are no errors when adding\n",
              "nodes or edges that already exist.\n",
              "\n",
              "**Attributes:**\n",
              "\n",
              "Each graph, node, and edge can hold key/value attribute pairs\n",
              "in an associated attribute dictionary (the keys must be hashable).\n",
              "By default these are empty, but can be added or changed using\n",
              "add_edge, add_node or direct manipulation of the attribute\n",
              "dictionaries named graph, node and edge respectively.\n",
              "\n",
              "&gt;&gt;&gt; G = nx.Graph(day=&quot;Friday&quot;)\n",
              "&gt;&gt;&gt; G.graph\n",
              "{&#x27;day&#x27;: &#x27;Friday&#x27;}\n",
              "\n",
              "Add node attributes using add_node(), add_nodes_from() or G.nodes\n",
              "\n",
              "&gt;&gt;&gt; G.add_node(1, time=&quot;5pm&quot;)\n",
              "&gt;&gt;&gt; G.add_nodes_from([3], time=&quot;2pm&quot;)\n",
              "&gt;&gt;&gt; G.nodes[1]\n",
              "{&#x27;time&#x27;: &#x27;5pm&#x27;}\n",
              "&gt;&gt;&gt; G.nodes[1][&quot;room&quot;] = 714  # node must exist already to use G.nodes\n",
              "&gt;&gt;&gt; del G.nodes[1][&quot;room&quot;]  # remove attribute\n",
              "&gt;&gt;&gt; list(G.nodes(data=True))\n",
              "[(1, {&#x27;time&#x27;: &#x27;5pm&#x27;}), (3, {&#x27;time&#x27;: &#x27;2pm&#x27;})]\n",
              "\n",
              "Add edge attributes using add_edge(), add_edges_from(), subscript\n",
              "notation, or G.edges.\n",
              "\n",
              "&gt;&gt;&gt; G.add_edge(1, 2, weight=4.7)\n",
              "&gt;&gt;&gt; G.add_edges_from([(3, 4), (4, 5)], color=&quot;red&quot;)\n",
              "&gt;&gt;&gt; G.add_edges_from([(1, 2, {&quot;color&quot;: &quot;blue&quot;}), (2, 3, {&quot;weight&quot;: 8})])\n",
              "&gt;&gt;&gt; G[1][2][&quot;weight&quot;] = 4.7\n",
              "&gt;&gt;&gt; G.edges[1, 2][&quot;weight&quot;] = 4\n",
              "\n",
              "Warning: we protect the graph data structure by making `G.edges` a\n",
              "read-only dict-like structure. However, you can assign to attributes\n",
              "in e.g. `G.edges[1, 2]`. Thus, use 2 sets of brackets to add/change\n",
              "data attributes: `G.edges[1, 2][&#x27;weight&#x27;] = 4`\n",
              "(For multigraphs: `MG.edges[u, v, key][name] = value`).\n",
              "\n",
              "**Shortcuts:**\n",
              "\n",
              "Many common graph features allow python syntax to speed reporting.\n",
              "\n",
              "&gt;&gt;&gt; 1 in G  # check if node in graph\n",
              "True\n",
              "&gt;&gt;&gt; [n for n in G if n &lt; 3]  # iterate through nodes\n",
              "[1, 2]\n",
              "&gt;&gt;&gt; len(G)  # number of nodes in graph\n",
              "5\n",
              "\n",
              "Often the best way to traverse all edges of a graph is via the neighbors.\n",
              "The neighbors are reported as an adjacency-dict `G.adj` or `G.adjacency()`\n",
              "\n",
              "&gt;&gt;&gt; for n, nbrsdict in G.adjacency():\n",
              "...     for nbr, eattr in nbrsdict.items():\n",
              "...         if &quot;weight&quot; in eattr:\n",
              "...             # Do something useful with the edges\n",
              "...             pass\n",
              "\n",
              "But the edges() method is often more convenient:\n",
              "\n",
              "&gt;&gt;&gt; for u, v, weight in G.edges.data(&quot;weight&quot;):\n",
              "...     if weight is not None:\n",
              "...         # Do something useful with the edges\n",
              "...         pass\n",
              "\n",
              "**Reporting:**\n",
              "\n",
              "Simple graph information is obtained using object-attributes and methods.\n",
              "Reporting typically provides views instead of containers to reduce memory\n",
              "usage. The views update as the graph is updated similarly to dict-views.\n",
              "The objects `nodes`, `edges` and `adj` provide access to data attributes\n",
              "via lookup (e.g. `nodes[n]`, `edges[u, v]`, `adj[u][v]`) and iteration\n",
              "(e.g. `nodes.items()`, `nodes.data(&#x27;color&#x27;)`,\n",
              "`nodes.data(&#x27;color&#x27;, default=&#x27;blue&#x27;)` and similarly for `edges`)\n",
              "Views exist for `nodes`, `edges`, `neighbors()`/`adj` and `degree`.\n",
              "\n",
              "For details on these and other miscellaneous methods, see below.\n",
              "\n",
              "**Subclasses (Advanced):**\n",
              "\n",
              "The Graph class uses a dict-of-dict-of-dict data structure.\n",
              "The outer dict (node_dict) holds adjacency information keyed by node.\n",
              "The next dict (adjlist_dict) represents the adjacency information and holds\n",
              "edge data keyed by neighbor.  The inner dict (edge_attr_dict) represents\n",
              "the edge data and holds edge attribute values keyed by attribute names.\n",
              "\n",
              "Each of these three dicts can be replaced in a subclass by a user defined\n",
              "dict-like object. In general, the dict-like features should be\n",
              "maintained but extra features can be added. To replace one of the\n",
              "dicts create a new graph class by changing the class(!) variable\n",
              "holding the factory for that dict-like structure.\n",
              "\n",
              "node_dict_factory : function, (default: dict)\n",
              "    Factory function to be used to create the dict containing node\n",
              "    attributes, keyed by node id.\n",
              "    It should require no arguments and return a dict-like object\n",
              "\n",
              "node_attr_dict_factory: function, (default: dict)\n",
              "    Factory function to be used to create the node attribute\n",
              "    dict which holds attribute values keyed by attribute name.\n",
              "    It should require no arguments and return a dict-like object\n",
              "\n",
              "adjlist_outer_dict_factory : function, (default: dict)\n",
              "    Factory function to be used to create the outer-most dict\n",
              "    in the data structure that holds adjacency info keyed by node.\n",
              "    It should require no arguments and return a dict-like object.\n",
              "\n",
              "adjlist_inner_dict_factory : function, (default: dict)\n",
              "    Factory function to be used to create the adjacency list\n",
              "    dict which holds edge data keyed by neighbor.\n",
              "    It should require no arguments and return a dict-like object\n",
              "\n",
              "edge_attr_dict_factory : function, (default: dict)\n",
              "    Factory function to be used to create the edge attribute\n",
              "    dict which holds attribute values keyed by attribute name.\n",
              "    It should require no arguments and return a dict-like object.\n",
              "\n",
              "graph_attr_dict_factory : function, (default: dict)\n",
              "    Factory function to be used to create the graph attribute\n",
              "    dict which holds attribute values keyed by attribute name.\n",
              "    It should require no arguments and return a dict-like object.\n",
              "\n",
              "Typically, if your extension doesn&#x27;t impact the data structure all\n",
              "methods will inherit without issue except: `to_directed/to_undirected`.\n",
              "By default these methods create a DiGraph/Graph class and you probably\n",
              "want them to create your extension of a DiGraph/Graph. To facilitate\n",
              "this we define two class variables that you can set in your subclass.\n",
              "\n",
              "to_directed_class : callable, (default: DiGraph or MultiDiGraph)\n",
              "    Class to create a new graph structure in the `to_directed` method.\n",
              "    If `None`, a NetworkX class (DiGraph or MultiDiGraph) is used.\n",
              "\n",
              "to_undirected_class : callable, (default: Graph or MultiGraph)\n",
              "    Class to create a new graph structure in the `to_undirected` method.\n",
              "    If `None`, a NetworkX class (Graph or MultiGraph) is used.\n",
              "\n",
              "**Subclassing Example**\n",
              "\n",
              "Create a low memory graph class that effectively disallows edge\n",
              "attributes by using a single attribute dict for all edges.\n",
              "This reduces the memory used, but you lose edge attributes.\n",
              "\n",
              "&gt;&gt;&gt; class ThinGraph(nx.Graph):\n",
              "...     all_edge_dict = {&quot;weight&quot;: 1}\n",
              "...\n",
              "...     def single_edge_dict(self):\n",
              "...         return self.all_edge_dict\n",
              "...\n",
              "...     edge_attr_dict_factory = single_edge_dict\n",
              "&gt;&gt;&gt; G = ThinGraph()\n",
              "&gt;&gt;&gt; G.add_edge(2, 1)\n",
              "&gt;&gt;&gt; G[2][1]\n",
              "{&#x27;weight&#x27;: 1}\n",
              "&gt;&gt;&gt; G.add_edge(2, 2)\n",
              "&gt;&gt;&gt; G[2][1] is G[2][2]\n",
              "True</pre>\n",
              "      <script>\n",
              "      if (google.colab.kernel.accessAllowed && google.colab.files && google.colab.files.view) {\n",
              "        for (const element of document.querySelectorAll('.filepath')) {\n",
              "          element.style.display = 'block'\n",
              "          element.onclick = (event) => {\n",
              "            event.preventDefault();\n",
              "            event.stopPropagation();\n",
              "            google.colab.files.view(element.textContent, 71);\n",
              "          };\n",
              "        }\n",
              "      }\n",
              "      for (const element of document.querySelectorAll('.function-repr-contents')) {\n",
              "        element.onclick = (event) => {\n",
              "          event.preventDefault();\n",
              "          event.stopPropagation();\n",
              "          element.classList.toggle('function-repr-contents-collapsed');\n",
              "        };\n",
              "      }\n",
              "      </script>\n",
              "      </div>"
            ]
          },
          "metadata": {},
          "execution_count": 6
        }
      ]
    },
    {
      "cell_type": "code",
      "metadata": {
        "id": "hDvf3nm-ors4",
        "colab": {
          "base_uri": "https://localhost:8080/",
          "height": 516
        },
        "outputId": "c54cbc81-c480-43f0-87b4-643f94b84c90"
      },
      "source": [
        "# Visualize the graph\n",
        "nx.draw(G, with_labels = True)"
      ],
      "execution_count": null,
      "outputs": [
        {
          "output_type": "display_data",
          "data": {
            "text/plain": [
              "<Figure size 640x480 with 1 Axes>"
            ],
            "image/png": "[encoded data removed]"
          },
          "metadata": {}
        }
      ]
    },
    {
      "cell_type": "markdown",
      "metadata": {
        "id": "FX25Y1CrYmgN"
      },
      "source": [
        "## Question 1: What is the average degree of the karate club network? (5 Points)"
      ]
    },
    {
      "cell_type": "code",
      "metadata": {
        "id": "AUhES1VYo3tB",
        "colab": {
          "base_uri": "https://localhost:8080/"
        },
        "outputId": "09857362-36f8-4555-d95d-da4a4319cc94"
      },
      "source": [
        "def average_degree(num_edges, num_nodes):\n",
        "  # TODO: Implement this function that takes number of edges\n",
        "  # and number of nodes, and returns the average node degree of\n",
        "  # the graph. Round the result to nearest integer (for example\n",
        "  # 3.3 will be rounded to 3 and 3.7 will be rounded to 4)\n",
        "\n",
        "  avg_degree = 0\n",
        "\n",
        "\n",
        "  ############# Your code here ############\n",
        "  for i in range(num_nodes):\n",
        "\n",
        "    avg_degree += (G.degree(i))\n",
        "  #########################################\n",
        "  avg_degree = avg_degree/ num_nodes\n",
        "  return round(avg_degree)\n",
        "\n",
        "num_edges = G.number_of_edges()\n",
        "num_nodes = G.number_of_nodes()\n",
        "print(num_edges,num_nodes)\n",
        "\n",
        "avg_degree = average_degree(num_edges, num_nodes)\n",
        "print(\"Average degree of karate club network is {}\".format(avg_degree))"
      ],
      "execution_count": null,
      "outputs": [
        {
          "output_type": "stream",
          "name": "stdout",
          "text": [
            "78 34\n",
            "Average degree of karate club network is 5\n"
          ]
        }
      ]
    },
    {
      "cell_type": "markdown",
      "metadata": {
        "id": "Fk02fD4vYmZI"
      },
      "source": [
        "## Question 2: What is the average clustering coefficient of the karate club network? (5 Points)"
      ]
    },
    {
      "cell_type": "code",
      "metadata": {
        "id": "k15XKEto1aYJ",
        "colab": {
          "base_uri": "https://localhost:8080/"
        },
        "outputId": "8fdf5b1e-4ee7-4d28-8227-5ff95c3d423f"
      },
      "source": [
        "def average_clustering_coefficient(G):\n",
        "  # TODO: Implement this function that takes a nx.Graph\n",
        "  # and returns the average clustering coefficient. Round\n",
        "  # the result to 2 decimal places (for example 3.333 will\n",
        "  # be rounded to 3.33 and 3.7571 will be rounded to 3.76)\n",
        "\n",
        "  avg_cluster_coef = 0\n",
        "\n",
        "  ############# Your code here ############\n",
        "  ## Note:\n",
        "  ## 1: Please use the appropriate NetworkX clustering function\n",
        "  avg_cluster_coef = round(nx.average_clustering(G),2)\n",
        "  #########################################\n",
        "\n",
        "  return avg_cluster_coef\n",
        "\n",
        "avg_cluster_coef = average_clustering_coefficient(G)\n",
        "print(\"Average clustering coefficient of karate club network is {}\".format(avg_cluster_coef))"
      ],
      "execution_count": null,
      "outputs": [
        {
          "output_type": "stream",
          "name": "stdout",
          "text": [
            "Average clustering coefficient of karate club network is 0.57\n"
          ]
        }
      ]
    },
    {
      "cell_type": "markdown",
      "metadata": {
        "id": "zghQ-AhXYmP4"
      },
      "source": [
        "## Question 3: What is the PageRank value for node 0 (node with id 0) after one PageRank iteration? (5 Points)\n",
        "\n",
        "Page Rank measures importance of nodes in a graph using the link structure of the web. A “vote” from an important page is worth more. Specifically, if  a page $i$ with importance $r_i$ has $d_i$ out-links, then each link gets $\\frac{r_i}{d_i}$ votes. Thus, the importance of a Page $j$, represented as $r_j$ is the sum of the votes on its in links.\n",
        "$$r_j = \\sum_{i \\rightarrow j} \\frac{r_i}{d_i}$$, where $d_i$ is the out degree of node $i$.\n",
        "\n",
        "The PageRank algorithm (used by Google) outputs a probability distribution which represent the likelihood of a random surfer clicking on links will arrive at any particular page. At each time step, the random surfer has two options\n",
        "- With prob. $\\beta$, follow a link at random\n",
        "- With prob. $1- \\beta$, jump to a random page\n",
        "\n",
        "Thus, the importance of a particular page is calculated with the following PageRank equation:\n",
        " $$r_j = \\sum_{i \\rightarrow j} \\beta \\frac{r_i}{d_i} + (1 - \\beta) \\frac{1}{N}$$\n",
        "\n",
        "Please complete the code block by implementing the above PageRank equation for node 0.\n",
        "\n",
        "Note - You can refer to more information from the slides here - http://snap.stanford.edu/class/cs224w-2020/slides/04-pagerank.pdf\n",
        "\n",
        "\n"
      ]
    },
    {
      "cell_type": "code",
      "metadata": {
        "id": "BOGdWjNc6O7x",
        "colab": {
          "base_uri": "https://localhost:8080/"
        },
        "outputId": "da5753f0-3bbe-48b1-cc49-e8054172ef57"
      },
      "source": [
        "def one_iter_pagerank(G, beta, r0, node_id):\n",
        "  # TODO: Implement this function that takes a nx.Graph, beta, r0 and node id.\n",
        "  # The return value r1 is one interation PageRank value for the input node.\n",
        "  # Please round r1 to 2 decimal places.\n",
        "\n",
        "  r1 = 0\n",
        "  '''\n",
        "  PR(A) = (1 - d) + d i=1nPR(Ti)C(Ti)\n",
        "  d = beta\n",
        "\n",
        "  where Page A has pages T1 to Tn which point to it d is a damping factor set between 0 and 1.\n",
        "  It is usually set to 0.85 C(A) is defined as the number of links going out of page A.\n",
        "  '''\n",
        "  ############# Your code here ############\n",
        "  ## Note:\n",
        "  ## 1: You should not use nx.pagerank\n",
        "  r1 = beta * sum(r0 / G.degree[neighbor] for neighbor in G.neighbors(node_id))\n",
        "  r1 += (1 - beta) / G.number_of_nodes()\n",
        "  r1 = round(r1, 2)\n",
        "  #########################################\n",
        "\n",
        "  return r1\n",
        "\n",
        "beta = 0.8\n",
        "r0 = 1 / G.number_of_nodes()\n",
        "node = 0\n",
        "r1 = one_iter_pagerank(G, beta, r0, node)\n",
        "print(\"The PageRank value for node 0 after one iteration is {}\".format(r1))"
      ],
      "execution_count": null,
      "outputs": [
        {
          "output_type": "stream",
          "name": "stdout",
          "text": [
            "The PageRank value for node 0 after one iteration is 0.13\n"
          ]
        }
      ]
    },
    {
      "cell_type": "markdown",
      "metadata": {
        "id": "icTcOULeYmIu"
      },
      "source": [
        "## Question 4: What is the (raw) closeness centrality for the karate club network node 5? (5 Points)\n",
        "\n",
        "The equation for closeness centrality is $c(v) = \\frac{1}{\\sum_{u \\neq v}\\text{shortest path length between } u \\text{ and } v}$"
      ]
    },
    {
      "cell_type": "code",
      "metadata": {
        "id": "XbCsq_tl-3ok",
        "colab": {
          "base_uri": "https://localhost:8080/"
        },
        "outputId": "18461832-c49c-4d28-edd2-f5720bbcb2b3"
      },
      "source": [
        "def closeness_centrality(G, node=5):\n",
        "  # TODO: Implement the function that calculates closeness centrality\n",
        "  # for a node in karate club network. G is the input karate club\n",
        "  # network and node is the node id in the graph. Please round the\n",
        "  # closeness centrality result to 2 decimal places.\n",
        "\n",
        "  closeness = 0\n",
        "\n",
        "  ## Note:\n",
        "  ## 1: You can use networkx closeness centrality function.\n",
        "  ## 2: Notice that networkx closeness centrality returns the normalized\n",
        "  ## closeness directly, which is different from the raw (unnormalized)\n",
        "  ## one that we learned in the lecture.\n",
        "\n",
        "  ############# Your code here ############\n",
        "  closeness= nx.closeness_centrality(G,u=node)\n",
        "  closeness  = round((closeness/((len(G))-1 )),2) # raw normalized formula = centrality / len(total num nodes)- 1\n",
        "\n",
        "  #########################################\n",
        "\n",
        "  return closeness\n",
        "\n",
        "node = 5\n",
        "closeness = closeness_centrality(G, node=node)\n",
        "print(\"The node 5 has closeness centrality {}\".format(closeness))"
      ],
      "execution_count": null,
      "outputs": [
        {
          "output_type": "stream",
          "name": "stdout",
          "text": [
            "The node 5 has closeness centrality 0.01\n"
          ]
        }
      ]
    },
    {
      "cell_type": "markdown",
      "metadata": {
        "id": "-MxvowibYl4x"
      },
      "source": [
        "# 2 Graph to Tensor\n",
        "We will then work together to transform the graph $G$ into a PyTorch tensor, so that we can perform machine learning over the graph."
      ]
    },
    {
      "cell_type": "markdown",
      "metadata": {
        "id": "eDA8PosrA-9V"
      },
      "source": [
        "## Setup\n",
        "Check if PyTorch is properly installed"
      ]
    },
    {
      "cell_type": "code",
      "metadata": {
        "id": "ntuPVat_BAf1",
        "colab": {
          "base_uri": "https://localhost:8080/"
        },
        "outputId": "2e738b0f-9008-4fe1-f596-589e1e0be05c"
      },
      "source": [
        "import torch\n",
        "print(torch.__version__)"
      ],
      "execution_count": 1,
      "outputs": [
        {
          "output_type": "stream",
          "name": "stdout",
          "text": [
            "2.5.1+cu121\n"
          ]
        }
      ]
    },
    {
      "cell_type": "markdown",
      "metadata": {
        "id": "fko_2wSKYlun"
      },
      "source": [
        "## PyTorch tensor basics\n",
        "\n",
        "We can generate PyTorch tensor with all zeros, ones or random values."
      ]
    },
    {
      "cell_type": "code",
      "metadata": {
        "id": "W2ySw3m-A9qF",
        "colab": {
          "base_uri": "https://localhost:8080/"
        },
        "outputId": "4c44e2dd-3f00-4220-850b-f0595effa51d"
      },
      "source": [
        "# Generate 3 x 4 tensor with all ones\n",
        "ones = torch.ones(3, 4)\n",
        "print(ones)\n",
        "\n",
        "# Generate 3 x 4 tensor with all zeros\n",
        "zeros = torch.zeros(3, 4)\n",
        "print(zeros)\n",
        "\n",
        "# Generate 3 x 4 tensor with random values on the interval [0, 1)\n",
        "random_tensor = torch.rand(3, 4)\n",
        "print(random_tensor)\n",
        "\n",
        "# Get the shape of the tensor\n",
        "print(ones.shape)"
      ],
      "execution_count": 2,
      "outputs": [
        {
          "output_type": "stream",
          "name": "stdout",
          "text": [
            "tensor([[1., 1., 1., 1.],\n",
            "        [1., 1., 1., 1.],\n",
            "        [1., 1., 1., 1.]])\n",
            "tensor([[0., 0., 0., 0.],\n",
            "        [0., 0., 0., 0.],\n",
            "        [0., 0., 0., 0.]])\n",
            "tensor([[0.7766, 0.8283, 0.5727, 0.3865],\n",
            "        [0.0527, 0.6832, 0.0417, 0.5122],\n",
            "        [0.3539, 0.2014, 0.5245, 0.7349]])\n",
            "torch.Size([3, 4])\n"
          ]
        }
      ]
    },
    {
      "cell_type": "markdown",
      "metadata": {
        "id": "x8mp66eHBxWC"
      },
      "source": [
        "PyTorch tensor contains elements for a single data type, the `dtype`."
      ]
    },
    {
      "cell_type": "code",
      "metadata": {
        "id": "rQiOvKJJBwq4",
        "colab": {
          "base_uri": "https://localhost:8080/"
        },
        "outputId": "619ac635-5053-44e5-e923-7cdf5418e23c"
      },
      "source": [
        "# Create a 3 x 4 tensor with all 32-bit floating point zeros\n",
        "zeros = torch.zeros(3, 4, dtype=torch.float32)\n",
        "print(zeros.dtype)\n",
        "\n",
        "# Change the tensor dtype to 64-bit integer\n",
        "zeros = zeros.type(torch.long)\n",
        "print(zeros.dtype)"
      ],
      "execution_count": 3,
      "outputs": [
        {
          "output_type": "stream",
          "name": "stdout",
          "text": [
            "torch.float32\n",
            "torch.int64\n"
          ]
        }
      ]
    },
    {
      "cell_type": "markdown",
      "metadata": {
        "id": "I9EfegIRDkk2"
      },
      "source": [
        "## Question 5: Get the edge list of the karate club network and transform it into `torch.LongTensor`. What is the `torch.sum` value of `pos_edge_index` tensor? (10 Points)"
      ]
    },
    {
      "cell_type": "code",
      "metadata": {
        "id": "kEtVxMFID3ZT",
        "colab": {
          "base_uri": "https://localhost:8080/"
        },
        "outputId": "4ee783b2-465a-4bd7-8803-486d5db1b0bd"
      },
      "source": [
        "def graph_to_edge_list(G):\n",
        "  # TODO: Implement the function that returns the edge list of\n",
        "  # an nx.Graph. The returned edge_list should be a list of tuples\n",
        "  # where each tuple is a tuple representing an edge connected\n",
        "  # by two nodes.\n",
        "\n",
        "  edge_list = []\n",
        "\n",
        "  ############# Your code here ############\n",
        "  edge_list = list(G.edges())\n",
        "  #########################################\n",
        "  print(edge_list)\n",
        "  return edge_list\n",
        "\n",
        "def edge_list_to_tensor(edge_list):\n",
        "  # TODO: Implement the function that transforms the edge_list to\n",
        "  # tensor. The input edge_list is a list of tuples and the resulting\n",
        "  # tensor should have the shape [2, len(edge_list)].\n",
        "\n",
        "  edge_index = torch.tensor([])\n",
        "\n",
        "  ############# Your code here ############\n",
        "  edge_index = torch.LongTensor(edge_list).T\n",
        "  #torch.flip(edge_index,dims=(1,))\n",
        "  print(edge_index)\n",
        "  #########################################\n",
        "\n",
        "  return edge_index\n",
        "\n",
        "pos_edge_list = graph_to_edge_list(G)\n",
        "pos_edge_index = edge_list_to_tensor(pos_edge_list)\n",
        "print(\"The pos_edge_index tensor has shape {}\".format(pos_edge_index.shape))\n",
        "print(\"The pos_edge_index tensor has sum value {}\".format(torch.sum(pos_edge_index)))"
      ],
      "execution_count": 7,
      "outputs": [
        {
          "output_type": "stream",
          "name": "stdout",
          "text": [
            "[(0, 1), (0, 2), (0, 3), (0, 4), (0, 5), (0, 6), (0, 7), (0, 8), (0, 10), (0, 11), (0, 12), (0, 13), (0, 17), (0, 19), (0, 21), (0, 31), (1, 2), (1, 3), (1, 7), (1, 13), (1, 17), (1, 19), (1, 21), (1, 30), (2, 3), (2, 7), (2, 8), (2, 9), (2, 13), (2, 27), (2, 28), (2, 32), (3, 7), (3, 12), (3, 13), (4, 6), (4, 10), (5, 6), (5, 10), (5, 16), (6, 16), (8, 30), (8, 32), (8, 33), (9, 33), (13, 33), (14, 32), (14, 33), (15, 32), (15, 33), (18, 32), (18, 33), (19, 33), (20, 32), (20, 33), (22, 32), (22, 33), (23, 25), (23, 27), (23, 29), (23, 32), (23, 33), (24, 25), (24, 27), (24, 31), (25, 31), (26, 29), (26, 33), (27, 33), (28, 31), (28, 33), (29, 32), (29, 33), (30, 32), (30, 33), (31, 32), (31, 33), (32, 33)]\n",
            "tensor([[ 0,  0,  0,  0,  0,  0,  0,  0,  0,  0,  0,  0,  0,  0,  0,  0,  1,  1,\n",
            "          1,  1,  1,  1,  1,  1,  2,  2,  2,  2,  2,  2,  2,  2,  3,  3,  3,  4,\n",
            "          4,  5,  5,  5,  6,  8,  8,  8,  9, 13, 14, 14, 15, 15, 18, 18, 19, 20,\n",
            "         20, 22, 22, 23, 23, 23, 23, 23, 24, 24, 24, 25, 26, 26, 27, 28, 28, 29,\n",
            "         29, 30, 30, 31, 31, 32],\n",
            "        [ 1,  2,  3,  4,  5,  6,  7,  8, 10, 11, 12, 13, 17, 19, 21, 31,  2,  3,\n",
            "          7, 13, 17, 19, 21, 30,  3,  7,  8,  9, 13, 27, 28, 32,  7, 12, 13,  6,\n",
            "         10,  6, 10, 16, 16, 30, 32, 33, 33, 33, 32, 33, 32, 33, 32, 33, 33, 32,\n",
            "         33, 32, 33, 25, 27, 29, 32, 33, 25, 27, 31, 31, 29, 33, 33, 31, 33, 32,\n",
            "         33, 32, 33, 32, 33, 33]])\n",
            "The pos_edge_index tensor has shape torch.Size([2, 78])\n",
            "The pos_edge_index tensor has sum value 2535\n"
          ]
        }
      ]
    },
    {
      "cell_type": "markdown",
      "metadata": {
        "id": "UBL-ZmdHWqIu"
      },
      "source": [
        "## Question 6: Please implement following function that samples negative edges. Then answer which edges (edge_1 to edge_5) are the negative edges in the karate club network? (10 Points)\n",
        "\n",
        "\"Negative\" edges refer to the edges/links that do not exist in the graph. The term \"negative\" is borrowed from \"negative sampling\" in link prediction. It has nothing to do with the edge weights.\n",
        "\n",
        "For example, given an edge (src, dst), you should check that neither (src, dst) nor (dst, src) are edges in the Graph. If these hold true, then it is a negative edge."
      ]
    },
    {
      "cell_type": "code",
      "metadata": {
        "id": "9N8VT1f8-IJ8",
        "colab": {
          "base_uri": "https://localhost:8080/"
        },
        "outputId": "997fb647-d92c-46de-dbe6-76a70d804779"
      },
      "source": [
        "import random\n",
        "\n",
        "def sample_negative_edges(G, num_neg_samples):\n",
        "  # TODO: Implement the function that returns a list of negative edges.\n",
        "  # The number of sampled negative edges is num_neg_samples. You do not\n",
        "  # need to consider the corner case when the number of possible negative edges\n",
        "  # is less than num_neg_samples. It should be ok as long as your implementation\n",
        "  # works on the karate club network. In this implementation, self loops should\n",
        "  # not be considered as either a positive or negative edge. Also, notice that\n",
        "  # the karate club network is an undirected graph, if (0, 1) is a positive\n",
        "  # edge, do you think (1, 0) can be a negative one?\n",
        "\n",
        "    neg_edge_list = []\n",
        "\n",
        "    pos_set = set(G.edges())\n",
        "    visited_set = set()\n",
        "\n",
        "    ############# Your code here ############\n",
        "    node_list = list(G.nodes())\n",
        "    random.shuffle(node_list)\n",
        "\n",
        "    for n_i in node_list:\n",
        "        for n_j in node_list:\n",
        "            if n_i == n_j \\\n",
        "            or (n_i,n_j) in pos_set or (n_j,n_i) in pos_set \\\n",
        "            or (n_i,n_j) in visited_set or (n_j, n_i) is visited_set:\n",
        "                continue\n",
        "\n",
        "            neg_edge_list.append((n_i,n_j))\n",
        "            visited_set.add((n_i,n_j))\n",
        "            visited_set.add((n_j,n_i))\n",
        "            if len(neg_edge_list) == num_neg_samples:\n",
        "                return neg_edge_list\n",
        "\n",
        "    #########################################\n",
        "\n",
        "\n",
        "# Sample 78 negative edges\n",
        "neg_edge_list = sample_negative_edges(G, len(pos_edge_list))\n",
        "\n",
        "# Transform the negative edge list to tensor\n",
        "neg_edge_index = edge_list_to_tensor(neg_edge_list)\n",
        "print(\"The neg_edge_index tensor has shape {}\".format(neg_edge_index.shape))\n",
        "\n",
        "# Which of following edges can be negative ones?\n",
        "edge_1 = (7, 1)\n",
        "edge_2 = (1, 33)\n",
        "edge_3 = (33, 22)\n",
        "edge_4 = (0, 4)\n",
        "edge_5 = (4, 2)\n",
        "\n",
        "def can_be_negative(G, edge):\n",
        "  # TODO: Implement the function that tests if an edge is a negative\n",
        "  # edge in graph G.\n",
        "\n",
        "  is_negative = False\n",
        "\n",
        "  ############# Your code here ############\n",
        "  return not(edge in pos_edge_list or (edge[1], edge[0]) in pos_edge_list)\n",
        "  #########################################\n",
        "\n",
        "  return is_negative\n",
        "\n",
        "print(f\"Edge 1 can be a negative edge: {can_be_negative(G, edge_1)}\")\n",
        "print(f\"Edge 2 can be a negative edge: {can_be_negative(G, edge_2)}\")\n",
        "print(f\"Edge 3 can be a negative edge: {can_be_negative(G, edge_3)}\")\n",
        "print(f\"Edge 4 can be a negative edge: {can_be_negative(G, edge_4)}\")\n",
        "print(f\"Edge 5 can be a negative edge: {can_be_negative(G, edge_5)}\")"
      ],
      "execution_count": 12,
      "outputs": [
        {
          "output_type": "stream",
          "name": "stdout",
          "text": [
            "tensor([[19, 19, 19, 19, 19, 19, 19, 19, 19, 19, 19, 19, 19, 19, 19, 19, 19, 19,\n",
            "         19, 19, 19, 19, 19, 19, 19, 19, 19, 19, 19, 19, 21, 21, 21, 21, 21, 21,\n",
            "         21, 21, 21, 21, 21, 21, 21, 21, 21, 21, 21, 21, 21, 21, 21, 21, 21, 21,\n",
            "         21, 21, 21, 21, 21, 21, 15, 15, 15, 15, 15, 15, 15, 15, 15, 15, 15, 15,\n",
            "         15, 15, 15, 15, 15, 15],\n",
            "        [21, 15, 22,  2,  6, 20, 18, 24, 13, 11,  3, 10, 30, 28,  4,  8, 29, 25,\n",
            "         27, 32, 23, 14, 12, 31,  9, 16, 17, 26,  7,  5, 15, 22,  2,  6, 20, 18,\n",
            "         24, 13, 11,  3, 10, 30, 28,  4,  8, 29, 25, 27, 32, 23, 14, 12, 31,  9,\n",
            "         16, 33, 17, 26,  7,  5, 22,  2,  6, 20, 18, 24, 13, 11,  3, 10, 30, 28,\n",
            "          4,  8, 29, 25, 27, 23]])\n",
            "The neg_edge_index tensor has shape torch.Size([2, 78])\n",
            "Edge 1 can be a negative edge: False\n",
            "Edge 2 can be a negative edge: True\n",
            "Edge 3 can be a negative edge: False\n",
            "Edge 4 can be a negative edge: False\n",
            "Edge 5 can be a negative edge: True\n"
          ]
        }
      ]
    },
    {
      "cell_type": "markdown",
      "metadata": {
        "id": "Wk9Q-a-9qGsw"
      },
      "source": [
        "# 3 Node Emebedding Learning\n",
        "\n",
        "Finally, we will finish the first learning algorithm on graphs: a node embedding model.\n"
      ]
    },
    {
      "cell_type": "markdown",
      "metadata": {
        "id": "NDBxRQcZ_dUH"
      },
      "source": [
        "## Setup"
      ]
    },
    {
      "cell_type": "code",
      "metadata": {
        "id": "Lnqn9H6s_ehX",
        "colab": {
          "base_uri": "https://localhost:8080/"
        },
        "outputId": "c27d299e-f88c-4a46-edc3-1839ea64fc22"
      },
      "source": [
        "import torch\n",
        "import torch.nn as nn\n",
        "import matplotlib.pyplot as plt\n",
        "from sklearn.decomposition import PCA\n",
        "\n",
        "print(torch.__version__)"
      ],
      "execution_count": 13,
      "outputs": [
        {
          "output_type": "stream",
          "name": "stdout",
          "text": [
            "2.5.1+cu121\n"
          ]
        }
      ]
    },
    {
      "cell_type": "markdown",
      "metadata": {
        "id": "6gomAf8vxq0R"
      },
      "source": [
        "To write our own node embedding learning methods, we'll heavily use the [`nn.Embedding`](https://pytorch.org/docs/stable/generated/torch.nn.Embedding.html) module in PyTorch. Let's see how to use `nn.Embedding`:"
      ]
    },
    {
      "cell_type": "code",
      "metadata": {
        "id": "aRiWGuLAx5yx",
        "colab": {
          "base_uri": "https://localhost:8080/"
        },
        "outputId": "1221ce24-de0b-482d-c676-f73128911546"
      },
      "source": [
        "# Initialize an embedding layer\n",
        "# Suppose we want to have embedding for 4 items (e.g., nodes)\n",
        "# Each item is represented with 8 dimensional vector\n",
        "\n",
        "emb_sample = nn.Embedding(num_embeddings=4, embedding_dim=8)\n",
        "print('Sample embedding layer: {}'.format(emb_sample))"
      ],
      "execution_count": 14,
      "outputs": [
        {
          "output_type": "stream",
          "name": "stdout",
          "text": [
            "Sample embedding layer: Embedding(4, 8)\n"
          ]
        }
      ]
    },
    {
      "cell_type": "markdown",
      "metadata": {
        "id": "bS9qQfeujEVh"
      },
      "source": [
        "We can select items from the embedding matrix, by using Tensor indices"
      ]
    },
    {
      "cell_type": "code",
      "metadata": {
        "id": "9AGIfP4QEDr8",
        "colab": {
          "base_uri": "https://localhost:8080/"
        },
        "outputId": "8803a1cd-77a5-4332-c94a-fae35aa7cbed"
      },
      "source": [
        "# Select an embedding in emb_sample\n",
        "id = torch.LongTensor([1])\n",
        "print(emb_sample(id))\n",
        "\n",
        "# Select multiple embeddings\n",
        "ids = torch.LongTensor([1, 3])\n",
        "print(emb_sample(ids))\n",
        "\n",
        "# Get the shape of the embedding weight matrix\n",
        "shape = emb_sample.weight.data.shape\n",
        "print(shape)\n",
        "\n",
        "# Overwrite the weight to tensor with all ones\n",
        "emb_sample.weight.data = torch.ones(shape)\n",
        "\n",
        "# Let's check if the emb is indeed initilized\n",
        "ids = torch.LongTensor([0, 3])\n",
        "print(emb_sample(ids))"
      ],
      "execution_count": 15,
      "outputs": [
        {
          "output_type": "stream",
          "name": "stdout",
          "text": [
            "tensor([[ 0.3493, -0.2157, -2.0842,  0.2522,  1.9316,  1.0253, -2.9632, -1.5446]],\n",
            "       grad_fn=<EmbeddingBackward0>)\n",
            "tensor([[ 0.3493, -0.2157, -2.0842,  0.2522,  1.9316,  1.0253, -2.9632, -1.5446],\n",
            "        [ 1.4344, -1.2458, -0.7329,  0.4792, -0.1997, -1.0350, -0.6881,  0.8132]],\n",
            "       grad_fn=<EmbeddingBackward0>)\n",
            "torch.Size([4, 8])\n",
            "tensor([[1., 1., 1., 1., 1., 1., 1., 1.],\n",
            "        [1., 1., 1., 1., 1., 1., 1., 1.]], grad_fn=<EmbeddingBackward0>)\n"
          ]
        }
      ]
    },
    {
      "cell_type": "markdown",
      "metadata": {
        "id": "8MjBuDKaKIsM"
      },
      "source": [
        "Now, it's your time to create node embedding matrix for the graph we have!\n",
        "- We want to have **16 dimensional** vector for each node in the karate club network.\n",
        "- We want to initalize the matrix under **uniform distribution**, in the range of $[0, 1)$. We suggest you using [`torch.rand`](https://pytorch.org/docs/stable/generated/torch.rand.html)."
      ]
    },
    {
      "cell_type": "code",
      "metadata": {
        "id": "hMszSwRPKGn1",
        "colab": {
          "base_uri": "https://localhost:8080/"
        },
        "outputId": "df7ea148-85f0-4d13-ca05-f89fada728ee"
      },
      "source": [
        "# Please do not change / reset the random seed\n",
        "torch.manual_seed(1)\n",
        "\n",
        "def create_node_emb(num_node=34, embedding_dim=16):\n",
        "  # TODO: Implement this function that will create the node embedding matrix.\n",
        "  # A torch.nn.Embedding layer will be returned. You do not need to change\n",
        "  # the values of num_node and embedding_dim. The weight matrix of returned\n",
        "  # layer should be initialized under uniform distribution.\n",
        "\n",
        "  emb = None\n",
        "\n",
        "  ############# Your code here ############\n",
        "  emb = nn.Embedding(num_node,embedding_dim)\n",
        "  emb.weight.data = torch.rand(num_node, embedding_dim)\n",
        "  #########################################\n",
        "\n",
        "  return emb\n",
        "\n",
        "emb = create_node_emb()\n",
        "ids = torch.LongTensor([0, 3])\n",
        "\n",
        "# Print the embedding layer\n",
        "print(\"Embedding: {}\".format(emb))\n",
        "\n",
        "# An example that gets the embeddings for node 0 and 3\n",
        "print(emb(ids))"
      ],
      "execution_count": 17,
      "outputs": [
        {
          "output_type": "stream",
          "name": "stdout",
          "text": [
            "Embedding: Embedding(34, 16)\n",
            "tensor([[0.2114, 0.7335, 0.1433, 0.9647, 0.2933, 0.7951, 0.5170, 0.2801, 0.8339,\n",
            "         0.1185, 0.2355, 0.5599, 0.8966, 0.2858, 0.1955, 0.1808],\n",
            "        [0.7486, 0.6546, 0.3843, 0.9820, 0.6012, 0.3710, 0.4929, 0.9915, 0.8358,\n",
            "         0.4629, 0.9902, 0.7196, 0.2338, 0.0450, 0.7906, 0.9689]],\n",
            "       grad_fn=<EmbeddingBackward0>)\n"
          ]
        }
      ]
    },
    {
      "cell_type": "markdown",
      "metadata": {
        "id": "4QfoANibTzyh"
      },
      "source": [
        "## Visualize the initial node embeddings\n",
        "One good way to understand an embedding matrix, is to visualize it in a 2D space.\n",
        "Here, we have implemented an embedding visualization function for you.\n",
        "We first do PCA to reduce the dimensionality of embeddings to a 2D space.\n",
        "Then we visualize each point, colored by the community it belongs to."
      ]
    },
    {
      "cell_type": "code",
      "metadata": {
        "id": "_LCoIkarhfYD",
        "colab": {
          "base_uri": "https://localhost:8080/",
          "height": 522
        },
        "outputId": "e0b09297-c741-448e-904c-5d56039203b1"
      },
      "source": [
        "def visualize_emb(emb):\n",
        "  X = emb.weight.data.numpy()\n",
        "  pca = PCA(n_components=2)\n",
        "  components = pca.fit_transform(X)\n",
        "  plt.figure(figsize=(6, 6))\n",
        "  club1_x = []\n",
        "  club1_y = []\n",
        "  club2_x = []\n",
        "  club2_y = []\n",
        "  for node in G.nodes(data=True):\n",
        "    if node[1]['club'] == 'Mr. Hi':\n",
        "      club1_x.append(components[node[0]][0])\n",
        "      club1_y.append(components[node[0]][1])\n",
        "    else:\n",
        "      club2_x.append(components[node[0]][0])\n",
        "      club2_y.append(components[node[0]][1])\n",
        "  plt.scatter(club1_x, club1_y, color=\"red\", label=\"Mr. Hi\")\n",
        "  plt.scatter(club2_x, club2_y, color=\"blue\", label=\"Officer\")\n",
        "  plt.legend()\n",
        "  plt.show()\n",
        "\n",
        "# Visualize the initial random embeddding\n",
        "visualize_emb(emb)"
      ],
      "execution_count": 18,
      "outputs": [
        {
          "output_type": "display_data",
          "data": {
            "text/plain": [
              "<Figure size 600x600 with 1 Axes>"
            ],
            "image/png": "[encoded data removed]"
          },
          "metadata": {}
        }
      ]
    },
    {
      "cell_type": "markdown",
      "metadata": {
        "id": "bQIyuEz9ANb2"
      },
      "source": [
        "## Question 7: Training the embedding! What is the best performance you can get? (20 Points)\n",
        "\n",
        "We want to optimize our embeddings for the task of classifying edges as positive or negative. Given an edge and the embeddings for each node, the dot product of the embeddings, followed by a sigmoid, should give us the likelihood of that edge being either positive (output of sigmoid > 0.5) or negative (output of sigmoid < 0.5).\n",
        "\n",
        "Note that we're using the functions you wrote in the previous questions, _as well as the variables initialized in previous cells_. If you're running into issues, make sure your answers to questions 1-6 are correct."
      ]
    },
    {
      "cell_type": "code",
      "metadata": {
        "id": "RDeQTNNxqH0j",
        "colab": {
          "base_uri": "https://localhost:8080/"
        },
        "outputId": "619c2ca4-b725-441e-955b-a1c2e64b8a67"
      },
      "source": [
        "from torch.optim import SGD\n",
        "import torch.nn as nn\n",
        "import numpy as np\n",
        "\n",
        "def accuracy(pred, label):\n",
        "  # TODO: Implement the accuracy function. This function takes the\n",
        "  # pred tensor (the resulting tensor after sigmoid) and the label\n",
        "  # tensor (torch.LongTensor). Predicted value greater than 0.5 will\n",
        "  # be classified as label 1. Else it will be classified as label 0.\n",
        "  # The returned accuracy should be rounded to 4 decimal places.\n",
        "  # For example, accuracy 0.82956 will be rounded to 0.8296.\n",
        "\n",
        "  accu = 0.0\n",
        "\n",
        "  ############# Your code here ############\n",
        "  # for i in pred:\n",
        "  #   if i>0.5:\n",
        "  #     pred= 1\n",
        "  #   else:\n",
        "  #     pred=0\n",
        "  pred = [1 if i>0.5 else 0 for i in pred]\n",
        "  matches = (np.array(pred)==np.array(label)).sum()\n",
        "\n",
        "  accu = round(matches / len(label),4)\n",
        "  #########################################\n",
        "\n",
        "  return accu\n",
        "\n",
        "def train(emb, loss_fn, train_label, train_edge):\n",
        "  # TODO: Train the embedding layer here. You can also change epochs and\n",
        "  # learning rate. In general, you need to implement:\n",
        "  # (1) Get the embeddings of the nodes in train_edge\n",
        "  # (2) Dot product the embeddings between each node pair\n",
        "  # (3) Feed the dot product result into sigmoid\n",
        "  # (4) Feed the sigmoid output into the loss_fn\n",
        "  # (5) Print both loss and accuracy of each epoch\n",
        "  # (6) Update the embeddings using the loss and optimizer\n",
        "  # (as a sanity check, the loss should decrease during training)\n",
        "\n",
        "  epochs = 500\n",
        "  learning_rate = 0.1\n",
        "\n",
        "  optimizer = SGD(emb.parameters(), lr=learning_rate, momentum=0.9)\n",
        "\n",
        "  for i in range(epochs):\n",
        "\n",
        "    ############# Your code here ############\n",
        "    optimizer.zero_grad() #init weights\n",
        "\n",
        "    u, v = train_edge[0], train_edge[1]\n",
        "    pred = torch.sigmoid(torch.bmm(emb(u).unsqueeze(1), emb(v).unsqueeze(2)).squeeze())\n",
        "    #sigmoid = torch.sigmoid(dp)\n",
        "\n",
        "    loss = loss_fn(pred,train_label)\n",
        "    loss.backward()\n",
        "\n",
        "    optimizer.step()\n",
        "\n",
        "\n",
        "    print(\n",
        "      f\"[Epoch {i:4d}]\\t\"\n",
        "      f\"acc: {accuracy(pred, train_label): .4f}\\t\"\n",
        "      f\"loss: {loss.item(): .6f}\"\n",
        "    )\n",
        "\n",
        "\n",
        "    #########################################\n",
        "\n",
        "  return emb\n",
        "\n",
        "loss_fn = nn.BCELoss()\n",
        "\n",
        "print(pos_edge_index.shape)\n",
        "\n",
        "# Generate the positive and negative labels\n",
        "pos_label = torch.ones(pos_edge_index.shape[1], )\n",
        "neg_label = torch.zeros(neg_edge_index.shape[1], )\n",
        "\n",
        "# Concat positive and negative labels into one tensor\n",
        "train_label = torch.cat([pos_label, neg_label], dim=0)\n",
        "\n",
        "# Concat positive and negative edges into one tensor\n",
        "# Since the network is very small, we do not split the edges into val/test sets\n",
        "train_edge = torch.cat([pos_edge_index, neg_edge_index], dim=1)\n",
        "print(train_edge.shape)\n",
        "\n",
        "train(emb, loss_fn, train_label, train_edge)"
      ],
      "execution_count": 25,
      "outputs": [
        {
          "output_type": "stream",
          "name": "stdout",
          "text": [
            "torch.Size([2, 78])\n",
            "torch.Size([2, 156])\n",
            "[Epoch    0]\tacc:  0.5000\tloss:  1.944513\n",
            "[Epoch    1]\tacc:  0.5000\tloss:  1.905728\n",
            "[Epoch    2]\tacc:  0.5000\tloss:  1.832954\n",
            "[Epoch    3]\tacc:  0.5000\tloss:  1.731317\n",
            "[Epoch    4]\tacc:  0.5000\tloss:  1.606191\n",
            "[Epoch    5]\tacc:  0.5000\tloss:  1.463170\n",
            "[Epoch    6]\tacc:  0.5000\tloss:  1.308068\n",
            "[Epoch    7]\tacc:  0.5000\tloss:  1.146895\n",
            "[Epoch    8]\tacc:  0.5000\tloss:  0.985786\n",
            "[Epoch    9]\tacc:  0.5256\tloss:  0.830833\n",
            "[Epoch   10]\tacc:  0.5769\tloss:  0.687773\n",
            "[Epoch   11]\tacc:  0.6603\tloss:  0.561508\n",
            "[Epoch   12]\tacc:  0.6923\tloss:  0.455509\n",
            "[Epoch   13]\tacc:  0.7500\tloss:  0.371219\n",
            "[Epoch   14]\tacc:  0.8526\tloss:  0.307802\n",
            "[Epoch   15]\tacc:  0.9231\tloss:  0.262587\n",
            "[Epoch   16]\tacc:  0.9295\tloss:  0.232023\n",
            "[Epoch   17]\tacc:  0.9359\tloss:  0.212581\n",
            "[Epoch   18]\tacc:  0.9423\tloss:  0.201246\n",
            "[Epoch   19]\tacc:  0.9423\tloss:  0.195633\n",
            "[Epoch   20]\tacc:  0.9423\tloss:  0.193933\n",
            "[Epoch   21]\tacc:  0.9359\tloss:  0.194799\n",
            "[Epoch   22]\tacc:  0.9359\tloss:  0.197241\n",
            "[Epoch   23]\tacc:  0.9359\tloss:  0.200539\n",
            "[Epoch   24]\tacc:  0.9359\tloss:  0.204177\n",
            "[Epoch   25]\tacc:  0.9359\tloss:  0.207794\n",
            "[Epoch   26]\tacc:  0.9359\tloss:  0.211142\n",
            "[Epoch   27]\tacc:  0.9359\tloss:  0.214061\n",
            "[Epoch   28]\tacc:  0.9359\tloss:  0.216453\n",
            "[Epoch   29]\tacc:  0.9359\tloss:  0.218267\n",
            "[Epoch   30]\tacc:  0.9359\tloss:  0.219487\n",
            "[Epoch   31]\tacc:  0.9359\tloss:  0.220120\n",
            "[Epoch   32]\tacc:  0.9359\tloss:  0.220192\n",
            "[Epoch   33]\tacc:  0.9359\tloss:  0.219740\n",
            "[Epoch   34]\tacc:  0.9359\tloss:  0.218808\n",
            "[Epoch   35]\tacc:  0.9359\tloss:  0.217446\n",
            "[Epoch   36]\tacc:  0.9359\tloss:  0.215707\n",
            "[Epoch   37]\tacc:  0.9359\tloss:  0.213643\n",
            "[Epoch   38]\tacc:  0.9359\tloss:  0.211305\n",
            "[Epoch   39]\tacc:  0.9359\tloss:  0.208745\n",
            "[Epoch   40]\tacc:  0.9359\tloss:  0.206010\n",
            "[Epoch   41]\tacc:  0.9359\tloss:  0.203144\n",
            "[Epoch   42]\tacc:  0.9359\tloss:  0.200190\n",
            "[Epoch   43]\tacc:  0.9359\tloss:  0.197186\n",
            "[Epoch   44]\tacc:  0.9359\tloss:  0.194166\n",
            "[Epoch   45]\tacc:  0.9359\tloss:  0.191161\n",
            "[Epoch   46]\tacc:  0.9359\tloss:  0.188197\n",
            "[Epoch   47]\tacc:  0.9359\tloss:  0.185298\n",
            "[Epoch   48]\tacc:  0.9359\tloss:  0.182483\n",
            "[Epoch   49]\tacc:  0.9359\tloss:  0.179768\n",
            "[Epoch   50]\tacc:  0.9359\tloss:  0.177166\n",
            "[Epoch   51]\tacc:  0.9359\tloss:  0.174685\n",
            "[Epoch   52]\tacc:  0.9359\tloss:  0.172332\n",
            "[Epoch   53]\tacc:  0.9359\tloss:  0.170110\n",
            "[Epoch   54]\tacc:  0.9359\tloss:  0.168020\n",
            "[Epoch   55]\tacc:  0.9359\tloss:  0.166061\n",
            "[Epoch   56]\tacc:  0.9359\tloss:  0.164228\n",
            "[Epoch   57]\tacc:  0.9359\tloss:  0.162517\n",
            "[Epoch   58]\tacc:  0.9359\tloss:  0.160921\n",
            "[Epoch   59]\tacc:  0.9359\tloss:  0.159433\n",
            "[Epoch   60]\tacc:  0.9359\tloss:  0.158045\n",
            "[Epoch   61]\tacc:  0.9359\tloss:  0.156747\n",
            "[Epoch   62]\tacc:  0.9423\tloss:  0.155529\n",
            "[Epoch   63]\tacc:  0.9423\tloss:  0.154384\n",
            "[Epoch   64]\tacc:  0.9423\tloss:  0.153302\n",
            "[Epoch   65]\tacc:  0.9423\tloss:  0.152274\n",
            "[Epoch   66]\tacc:  0.9423\tloss:  0.151291\n",
            "[Epoch   67]\tacc:  0.9423\tloss:  0.150348\n",
            "[Epoch   68]\tacc:  0.9423\tloss:  0.149435\n",
            "[Epoch   69]\tacc:  0.9423\tloss:  0.148548\n",
            "[Epoch   70]\tacc:  0.9423\tloss:  0.147680\n",
            "[Epoch   71]\tacc:  0.9423\tloss:  0.146828\n",
            "[Epoch   72]\tacc:  0.9423\tloss:  0.145987\n",
            "[Epoch   73]\tacc:  0.9423\tloss:  0.145153\n",
            "[Epoch   74]\tacc:  0.9423\tloss:  0.144326\n",
            "[Epoch   75]\tacc:  0.9423\tloss:  0.143501\n",
            "[Epoch   76]\tacc:  0.9423\tloss:  0.142679\n",
            "[Epoch   77]\tacc:  0.9423\tloss:  0.141857\n",
            "[Epoch   78]\tacc:  0.9423\tloss:  0.141035\n",
            "[Epoch   79]\tacc:  0.9423\tloss:  0.140214\n",
            "[Epoch   80]\tacc:  0.9423\tloss:  0.139392\n",
            "[Epoch   81]\tacc:  0.9423\tloss:  0.138570\n",
            "[Epoch   82]\tacc:  0.9423\tloss:  0.137748\n",
            "[Epoch   83]\tacc:  0.9423\tloss:  0.136926\n",
            "[Epoch   84]\tacc:  0.9423\tloss:  0.136104\n",
            "[Epoch   85]\tacc:  0.9423\tloss:  0.135284\n",
            "[Epoch   86]\tacc:  0.9423\tloss:  0.134465\n",
            "[Epoch   87]\tacc:  0.9423\tloss:  0.133648\n",
            "[Epoch   88]\tacc:  0.9423\tloss:  0.132833\n",
            "[Epoch   89]\tacc:  0.9423\tloss:  0.132020\n",
            "[Epoch   90]\tacc:  0.9423\tloss:  0.131209\n",
            "[Epoch   91]\tacc:  0.9423\tloss:  0.130401\n",
            "[Epoch   92]\tacc:  0.9423\tloss:  0.129596\n",
            "[Epoch   93]\tacc:  0.9423\tloss:  0.128793\n",
            "[Epoch   94]\tacc:  0.9423\tloss:  0.127993\n",
            "[Epoch   95]\tacc:  0.9423\tloss:  0.127196\n",
            "[Epoch   96]\tacc:  0.9423\tloss:  0.126401\n",
            "[Epoch   97]\tacc:  0.9423\tloss:  0.125609\n",
            "[Epoch   98]\tacc:  0.9423\tloss:  0.124820\n",
            "[Epoch   99]\tacc:  0.9423\tloss:  0.124032\n",
            "[Epoch  100]\tacc:  0.9423\tloss:  0.123247\n",
            "[Epoch  101]\tacc:  0.9423\tloss:  0.122465\n",
            "[Epoch  102]\tacc:  0.9423\tloss:  0.121684\n",
            "[Epoch  103]\tacc:  0.9423\tloss:  0.120905\n",
            "[Epoch  104]\tacc:  0.9423\tloss:  0.120127\n",
            "[Epoch  105]\tacc:  0.9487\tloss:  0.119352\n",
            "[Epoch  106]\tacc:  0.9487\tloss:  0.118578\n",
            "[Epoch  107]\tacc:  0.9487\tloss:  0.117805\n",
            "[Epoch  108]\tacc:  0.9487\tloss:  0.117034\n",
            "[Epoch  109]\tacc:  0.9487\tloss:  0.116264\n",
            "[Epoch  110]\tacc:  0.9487\tloss:  0.115495\n",
            "[Epoch  111]\tacc:  0.9551\tloss:  0.114728\n",
            "[Epoch  112]\tacc:  0.9551\tloss:  0.113962\n",
            "[Epoch  113]\tacc:  0.9551\tloss:  0.113197\n",
            "[Epoch  114]\tacc:  0.9551\tloss:  0.112433\n",
            "[Epoch  115]\tacc:  0.9551\tloss:  0.111671\n",
            "[Epoch  116]\tacc:  0.9551\tloss:  0.110910\n",
            "[Epoch  117]\tacc:  0.9551\tloss:  0.110150\n",
            "[Epoch  118]\tacc:  0.9551\tloss:  0.109392\n",
            "[Epoch  119]\tacc:  0.9551\tloss:  0.108635\n",
            "[Epoch  120]\tacc:  0.9551\tloss:  0.107879\n",
            "[Epoch  121]\tacc:  0.9551\tloss:  0.107125\n",
            "[Epoch  122]\tacc:  0.9615\tloss:  0.106373\n",
            "[Epoch  123]\tacc:  0.9615\tloss:  0.105622\n",
            "[Epoch  124]\tacc:  0.9615\tloss:  0.104873\n",
            "[Epoch  125]\tacc:  0.9615\tloss:  0.104125\n",
            "[Epoch  126]\tacc:  0.9615\tloss:  0.103380\n",
            "[Epoch  127]\tacc:  0.9615\tloss:  0.102636\n",
            "[Epoch  128]\tacc:  0.9615\tloss:  0.101895\n",
            "[Epoch  129]\tacc:  0.9615\tloss:  0.101155\n",
            "[Epoch  130]\tacc:  0.9615\tloss:  0.100417\n",
            "[Epoch  131]\tacc:  0.9679\tloss:  0.099682\n",
            "[Epoch  132]\tacc:  0.9679\tloss:  0.098949\n",
            "[Epoch  133]\tacc:  0.9679\tloss:  0.098218\n",
            "[Epoch  134]\tacc:  0.9679\tloss:  0.097489\n",
            "[Epoch  135]\tacc:  0.9679\tloss:  0.096763\n",
            "[Epoch  136]\tacc:  0.9679\tloss:  0.096039\n",
            "[Epoch  137]\tacc:  0.9679\tloss:  0.095318\n",
            "[Epoch  138]\tacc:  0.9679\tloss:  0.094600\n",
            "[Epoch  139]\tacc:  0.9679\tloss:  0.093884\n",
            "[Epoch  140]\tacc:  0.9679\tloss:  0.093170\n",
            "[Epoch  141]\tacc:  0.9679\tloss:  0.092460\n",
            "[Epoch  142]\tacc:  0.9679\tloss:  0.091752\n",
            "[Epoch  143]\tacc:  0.9679\tloss:  0.091047\n",
            "[Epoch  144]\tacc:  0.9679\tloss:  0.090346\n",
            "[Epoch  145]\tacc:  0.9679\tloss:  0.089647\n",
            "[Epoch  146]\tacc:  0.9679\tloss:  0.088951\n",
            "[Epoch  147]\tacc:  0.9679\tloss:  0.088258\n",
            "[Epoch  148]\tacc:  0.9679\tloss:  0.087569\n",
            "[Epoch  149]\tacc:  0.9679\tloss:  0.086882\n",
            "[Epoch  150]\tacc:  0.9679\tloss:  0.086199\n",
            "[Epoch  151]\tacc:  0.9679\tloss:  0.085520\n",
            "[Epoch  152]\tacc:  0.9679\tloss:  0.084843\n",
            "[Epoch  153]\tacc:  0.9679\tloss:  0.084170\n",
            "[Epoch  154]\tacc:  0.9679\tloss:  0.083501\n",
            "[Epoch  155]\tacc:  0.9744\tloss:  0.082835\n",
            "[Epoch  156]\tacc:  0.9744\tloss:  0.082172\n",
            "[Epoch  157]\tacc:  0.9744\tloss:  0.081513\n",
            "[Epoch  158]\tacc:  0.9744\tloss:  0.080858\n",
            "[Epoch  159]\tacc:  0.9744\tloss:  0.080207\n",
            "[Epoch  160]\tacc:  0.9744\tloss:  0.079559\n",
            "[Epoch  161]\tacc:  0.9744\tloss:  0.078915\n",
            "[Epoch  162]\tacc:  0.9744\tloss:  0.078275\n",
            "[Epoch  163]\tacc:  0.9744\tloss:  0.077639\n",
            "[Epoch  164]\tacc:  0.9744\tloss:  0.077006\n",
            "[Epoch  165]\tacc:  0.9744\tloss:  0.076378\n",
            "[Epoch  166]\tacc:  0.9744\tloss:  0.075753\n",
            "[Epoch  167]\tacc:  0.9808\tloss:  0.075133\n",
            "[Epoch  168]\tacc:  0.9808\tloss:  0.074516\n",
            "[Epoch  169]\tacc:  0.9808\tloss:  0.073904\n",
            "[Epoch  170]\tacc:  0.9808\tloss:  0.073295\n",
            "[Epoch  171]\tacc:  0.9808\tloss:  0.072691\n",
            "[Epoch  172]\tacc:  0.9808\tloss:  0.072091\n",
            "[Epoch  173]\tacc:  0.9808\tloss:  0.071495\n",
            "[Epoch  174]\tacc:  0.9808\tloss:  0.070903\n",
            "[Epoch  175]\tacc:  0.9808\tloss:  0.070315\n",
            "[Epoch  176]\tacc:  0.9808\tloss:  0.069732\n",
            "[Epoch  177]\tacc:  0.9808\tloss:  0.069153\n",
            "[Epoch  178]\tacc:  0.9808\tloss:  0.068578\n",
            "[Epoch  179]\tacc:  0.9808\tloss:  0.068007\n",
            "[Epoch  180]\tacc:  0.9808\tloss:  0.067440\n",
            "[Epoch  181]\tacc:  0.9808\tloss:  0.066878\n",
            "[Epoch  182]\tacc:  0.9808\tloss:  0.066320\n",
            "[Epoch  183]\tacc:  0.9808\tloss:  0.065766\n",
            "[Epoch  184]\tacc:  0.9808\tloss:  0.065217\n",
            "[Epoch  185]\tacc:  0.9872\tloss:  0.064671\n",
            "[Epoch  186]\tacc:  0.9872\tloss:  0.064130\n",
            "[Epoch  187]\tacc:  0.9872\tloss:  0.063594\n",
            "[Epoch  188]\tacc:  0.9872\tloss:  0.063061\n",
            "[Epoch  189]\tacc:  0.9936\tloss:  0.062533\n",
            "[Epoch  190]\tacc:  0.9936\tloss:  0.062009\n",
            "[Epoch  191]\tacc:  0.9936\tloss:  0.061489\n",
            "[Epoch  192]\tacc:  0.9936\tloss:  0.060974\n",
            "[Epoch  193]\tacc:  0.9936\tloss:  0.060463\n",
            "[Epoch  194]\tacc:  0.9936\tloss:  0.059956\n",
            "[Epoch  195]\tacc:  0.9936\tloss:  0.059453\n",
            "[Epoch  196]\tacc:  0.9936\tloss:  0.058954\n",
            "[Epoch  197]\tacc:  0.9936\tloss:  0.058460\n",
            "[Epoch  198]\tacc:  0.9936\tloss:  0.057970\n",
            "[Epoch  199]\tacc:  0.9936\tloss:  0.057484\n",
            "[Epoch  200]\tacc:  0.9936\tloss:  0.057002\n",
            "[Epoch  201]\tacc:  0.9936\tloss:  0.056524\n",
            "[Epoch  202]\tacc:  0.9936\tloss:  0.056051\n",
            "[Epoch  203]\tacc:  0.9936\tloss:  0.055581\n",
            "[Epoch  204]\tacc:  0.9936\tloss:  0.055116\n",
            "[Epoch  205]\tacc:  0.9936\tloss:  0.054654\n",
            "[Epoch  206]\tacc:  0.9936\tloss:  0.054197\n",
            "[Epoch  207]\tacc:  0.9936\tloss:  0.053744\n",
            "[Epoch  208]\tacc:  0.9936\tloss:  0.053295\n",
            "[Epoch  209]\tacc:  0.9936\tloss:  0.052850\n",
            "[Epoch  210]\tacc:  0.9936\tloss:  0.052408\n",
            "[Epoch  211]\tacc:  0.9936\tloss:  0.051971\n",
            "[Epoch  212]\tacc:  0.9936\tloss:  0.051538\n",
            "[Epoch  213]\tacc:  0.9936\tloss:  0.051109\n",
            "[Epoch  214]\tacc:  0.9936\tloss:  0.050683\n",
            "[Epoch  215]\tacc:  0.9936\tloss:  0.050262\n",
            "[Epoch  216]\tacc:  0.9936\tloss:  0.049844\n",
            "[Epoch  217]\tacc:  0.9936\tloss:  0.049430\n",
            "[Epoch  218]\tacc:  0.9936\tloss:  0.049021\n",
            "[Epoch  219]\tacc:  0.9936\tloss:  0.048614\n",
            "[Epoch  220]\tacc:  0.9936\tloss:  0.048212\n",
            "[Epoch  221]\tacc:  0.9936\tloss:  0.047814\n",
            "[Epoch  222]\tacc:  0.9936\tloss:  0.047419\n",
            "[Epoch  223]\tacc:  0.9936\tloss:  0.047028\n",
            "[Epoch  224]\tacc:  0.9936\tloss:  0.046641\n",
            "[Epoch  225]\tacc:  0.9936\tloss:  0.046257\n",
            "[Epoch  226]\tacc:  1.0000\tloss:  0.045877\n",
            "[Epoch  227]\tacc:  1.0000\tloss:  0.045501\n",
            "[Epoch  228]\tacc:  1.0000\tloss:  0.045128\n",
            "[Epoch  229]\tacc:  1.0000\tloss:  0.044759\n",
            "[Epoch  230]\tacc:  1.0000\tloss:  0.044394\n",
            "[Epoch  231]\tacc:  1.0000\tloss:  0.044032\n",
            "[Epoch  232]\tacc:  1.0000\tloss:  0.043674\n",
            "[Epoch  233]\tacc:  1.0000\tloss:  0.043319\n",
            "[Epoch  234]\tacc:  1.0000\tloss:  0.042968\n",
            "[Epoch  235]\tacc:  1.0000\tloss:  0.042620\n",
            "[Epoch  236]\tacc:  1.0000\tloss:  0.042276\n",
            "[Epoch  237]\tacc:  1.0000\tloss:  0.041935\n",
            "[Epoch  238]\tacc:  1.0000\tloss:  0.041597\n",
            "[Epoch  239]\tacc:  1.0000\tloss:  0.041263\n",
            "[Epoch  240]\tacc:  1.0000\tloss:  0.040933\n",
            "[Epoch  241]\tacc:  1.0000\tloss:  0.040605\n",
            "[Epoch  242]\tacc:  1.0000\tloss:  0.040281\n",
            "[Epoch  243]\tacc:  1.0000\tloss:  0.039960\n",
            "[Epoch  244]\tacc:  1.0000\tloss:  0.039643\n",
            "[Epoch  245]\tacc:  1.0000\tloss:  0.039328\n",
            "[Epoch  246]\tacc:  1.0000\tloss:  0.039017\n",
            "[Epoch  247]\tacc:  1.0000\tloss:  0.038709\n",
            "[Epoch  248]\tacc:  1.0000\tloss:  0.038405\n",
            "[Epoch  249]\tacc:  1.0000\tloss:  0.038103\n",
            "[Epoch  250]\tacc:  1.0000\tloss:  0.037804\n",
            "[Epoch  251]\tacc:  1.0000\tloss:  0.037509\n",
            "[Epoch  252]\tacc:  1.0000\tloss:  0.037216\n",
            "[Epoch  253]\tacc:  1.0000\tloss:  0.036927\n",
            "[Epoch  254]\tacc:  1.0000\tloss:  0.036641\n",
            "[Epoch  255]\tacc:  1.0000\tloss:  0.036357\n",
            "[Epoch  256]\tacc:  1.0000\tloss:  0.036077\n",
            "[Epoch  257]\tacc:  1.0000\tloss:  0.035799\n",
            "[Epoch  258]\tacc:  1.0000\tloss:  0.035525\n",
            "[Epoch  259]\tacc:  1.0000\tloss:  0.035253\n",
            "[Epoch  260]\tacc:  1.0000\tloss:  0.034984\n",
            "[Epoch  261]\tacc:  1.0000\tloss:  0.034718\n",
            "[Epoch  262]\tacc:  1.0000\tloss:  0.034454\n",
            "[Epoch  263]\tacc:  1.0000\tloss:  0.034194\n",
            "[Epoch  264]\tacc:  1.0000\tloss:  0.033936\n",
            "[Epoch  265]\tacc:  1.0000\tloss:  0.033681\n",
            "[Epoch  266]\tacc:  1.0000\tloss:  0.033428\n",
            "[Epoch  267]\tacc:  1.0000\tloss:  0.033178\n",
            "[Epoch  268]\tacc:  1.0000\tloss:  0.032931\n",
            "[Epoch  269]\tacc:  1.0000\tloss:  0.032686\n",
            "[Epoch  270]\tacc:  1.0000\tloss:  0.032444\n",
            "[Epoch  271]\tacc:  1.0000\tloss:  0.032205\n",
            "[Epoch  272]\tacc:  1.0000\tloss:  0.031968\n",
            "[Epoch  273]\tacc:  1.0000\tloss:  0.031733\n",
            "[Epoch  274]\tacc:  1.0000\tloss:  0.031501\n",
            "[Epoch  275]\tacc:  1.0000\tloss:  0.031272\n",
            "[Epoch  276]\tacc:  1.0000\tloss:  0.031044\n",
            "[Epoch  277]\tacc:  1.0000\tloss:  0.030819\n",
            "[Epoch  278]\tacc:  1.0000\tloss:  0.030597\n",
            "[Epoch  279]\tacc:  1.0000\tloss:  0.030377\n",
            "[Epoch  280]\tacc:  1.0000\tloss:  0.030159\n",
            "[Epoch  281]\tacc:  1.0000\tloss:  0.029943\n",
            "[Epoch  282]\tacc:  1.0000\tloss:  0.029730\n",
            "[Epoch  283]\tacc:  1.0000\tloss:  0.029519\n",
            "[Epoch  284]\tacc:  1.0000\tloss:  0.029310\n",
            "[Epoch  285]\tacc:  1.0000\tloss:  0.029104\n",
            "[Epoch  286]\tacc:  1.0000\tloss:  0.028899\n",
            "[Epoch  287]\tacc:  1.0000\tloss:  0.028697\n",
            "[Epoch  288]\tacc:  1.0000\tloss:  0.028496\n",
            "[Epoch  289]\tacc:  1.0000\tloss:  0.028298\n",
            "[Epoch  290]\tacc:  1.0000\tloss:  0.028102\n",
            "[Epoch  291]\tacc:  1.0000\tloss:  0.027908\n",
            "[Epoch  292]\tacc:  1.0000\tloss:  0.027716\n",
            "[Epoch  293]\tacc:  1.0000\tloss:  0.027526\n",
            "[Epoch  294]\tacc:  1.0000\tloss:  0.027338\n",
            "[Epoch  295]\tacc:  1.0000\tloss:  0.027151\n",
            "[Epoch  296]\tacc:  1.0000\tloss:  0.026967\n",
            "[Epoch  297]\tacc:  1.0000\tloss:  0.026785\n",
            "[Epoch  298]\tacc:  1.0000\tloss:  0.026604\n",
            "[Epoch  299]\tacc:  1.0000\tloss:  0.026426\n",
            "[Epoch  300]\tacc:  1.0000\tloss:  0.026249\n",
            "[Epoch  301]\tacc:  1.0000\tloss:  0.026074\n",
            "[Epoch  302]\tacc:  1.0000\tloss:  0.025901\n",
            "[Epoch  303]\tacc:  1.0000\tloss:  0.025729\n",
            "[Epoch  304]\tacc:  1.0000\tloss:  0.025559\n",
            "[Epoch  305]\tacc:  1.0000\tloss:  0.025391\n",
            "[Epoch  306]\tacc:  1.0000\tloss:  0.025225\n",
            "[Epoch  307]\tacc:  1.0000\tloss:  0.025061\n",
            "[Epoch  308]\tacc:  1.0000\tloss:  0.024898\n",
            "[Epoch  309]\tacc:  1.0000\tloss:  0.024736\n",
            "[Epoch  310]\tacc:  1.0000\tloss:  0.024577\n",
            "[Epoch  311]\tacc:  1.0000\tloss:  0.024419\n",
            "[Epoch  312]\tacc:  1.0000\tloss:  0.024262\n",
            "[Epoch  313]\tacc:  1.0000\tloss:  0.024107\n",
            "[Epoch  314]\tacc:  1.0000\tloss:  0.023954\n",
            "[Epoch  315]\tacc:  1.0000\tloss:  0.023802\n",
            "[Epoch  316]\tacc:  1.0000\tloss:  0.023652\n",
            "[Epoch  317]\tacc:  1.0000\tloss:  0.023503\n",
            "[Epoch  318]\tacc:  1.0000\tloss:  0.023356\n",
            "[Epoch  319]\tacc:  1.0000\tloss:  0.023210\n",
            "[Epoch  320]\tacc:  1.0000\tloss:  0.023065\n",
            "[Epoch  321]\tacc:  1.0000\tloss:  0.022922\n",
            "[Epoch  322]\tacc:  1.0000\tloss:  0.022781\n",
            "[Epoch  323]\tacc:  1.0000\tloss:  0.022641\n",
            "[Epoch  324]\tacc:  1.0000\tloss:  0.022502\n",
            "[Epoch  325]\tacc:  1.0000\tloss:  0.022364\n",
            "[Epoch  326]\tacc:  1.0000\tloss:  0.022228\n",
            "[Epoch  327]\tacc:  1.0000\tloss:  0.022093\n",
            "[Epoch  328]\tacc:  1.0000\tloss:  0.021960\n",
            "[Epoch  329]\tacc:  1.0000\tloss:  0.021827\n",
            "[Epoch  330]\tacc:  1.0000\tloss:  0.021697\n",
            "[Epoch  331]\tacc:  1.0000\tloss:  0.021567\n",
            "[Epoch  332]\tacc:  1.0000\tloss:  0.021438\n",
            "[Epoch  333]\tacc:  1.0000\tloss:  0.021311\n",
            "[Epoch  334]\tacc:  1.0000\tloss:  0.021185\n",
            "[Epoch  335]\tacc:  1.0000\tloss:  0.021060\n",
            "[Epoch  336]\tacc:  1.0000\tloss:  0.020937\n",
            "[Epoch  337]\tacc:  1.0000\tloss:  0.020814\n",
            "[Epoch  338]\tacc:  1.0000\tloss:  0.020693\n",
            "[Epoch  339]\tacc:  1.0000\tloss:  0.020573\n",
            "[Epoch  340]\tacc:  1.0000\tloss:  0.020454\n",
            "[Epoch  341]\tacc:  1.0000\tloss:  0.020336\n",
            "[Epoch  342]\tacc:  1.0000\tloss:  0.020219\n",
            "[Epoch  343]\tacc:  1.0000\tloss:  0.020104\n",
            "[Epoch  344]\tacc:  1.0000\tloss:  0.019989\n",
            "[Epoch  345]\tacc:  1.0000\tloss:  0.019875\n",
            "[Epoch  346]\tacc:  1.0000\tloss:  0.019763\n",
            "[Epoch  347]\tacc:  1.0000\tloss:  0.019652\n",
            "[Epoch  348]\tacc:  1.0000\tloss:  0.019541\n",
            "[Epoch  349]\tacc:  1.0000\tloss:  0.019432\n",
            "[Epoch  350]\tacc:  1.0000\tloss:  0.019323\n",
            "[Epoch  351]\tacc:  1.0000\tloss:  0.019216\n",
            "[Epoch  352]\tacc:  1.0000\tloss:  0.019110\n",
            "[Epoch  353]\tacc:  1.0000\tloss:  0.019004\n",
            "[Epoch  354]\tacc:  1.0000\tloss:  0.018900\n",
            "[Epoch  355]\tacc:  1.0000\tloss:  0.018796\n",
            "[Epoch  356]\tacc:  1.0000\tloss:  0.018693\n",
            "[Epoch  357]\tacc:  1.0000\tloss:  0.018592\n",
            "[Epoch  358]\tacc:  1.0000\tloss:  0.018491\n",
            "[Epoch  359]\tacc:  1.0000\tloss:  0.018391\n",
            "[Epoch  360]\tacc:  1.0000\tloss:  0.018292\n",
            "[Epoch  361]\tacc:  1.0000\tloss:  0.018194\n",
            "[Epoch  362]\tacc:  1.0000\tloss:  0.018097\n",
            "[Epoch  363]\tacc:  1.0000\tloss:  0.018000\n",
            "[Epoch  364]\tacc:  1.0000\tloss:  0.017905\n",
            "[Epoch  365]\tacc:  1.0000\tloss:  0.017810\n",
            "[Epoch  366]\tacc:  1.0000\tloss:  0.017716\n",
            "[Epoch  367]\tacc:  1.0000\tloss:  0.017623\n",
            "[Epoch  368]\tacc:  1.0000\tloss:  0.017531\n",
            "[Epoch  369]\tacc:  1.0000\tloss:  0.017440\n",
            "[Epoch  370]\tacc:  1.0000\tloss:  0.017349\n",
            "[Epoch  371]\tacc:  1.0000\tloss:  0.017259\n",
            "[Epoch  372]\tacc:  1.0000\tloss:  0.017170\n",
            "[Epoch  373]\tacc:  1.0000\tloss:  0.017082\n",
            "[Epoch  374]\tacc:  1.0000\tloss:  0.016995\n",
            "[Epoch  375]\tacc:  1.0000\tloss:  0.016908\n",
            "[Epoch  376]\tacc:  1.0000\tloss:  0.016822\n",
            "[Epoch  377]\tacc:  1.0000\tloss:  0.016737\n",
            "[Epoch  378]\tacc:  1.0000\tloss:  0.016652\n",
            "[Epoch  379]\tacc:  1.0000\tloss:  0.016568\n",
            "[Epoch  380]\tacc:  1.0000\tloss:  0.016485\n",
            "[Epoch  381]\tacc:  1.0000\tloss:  0.016403\n",
            "[Epoch  382]\tacc:  1.0000\tloss:  0.016321\n",
            "[Epoch  383]\tacc:  1.0000\tloss:  0.016240\n",
            "[Epoch  384]\tacc:  1.0000\tloss:  0.016160\n",
            "[Epoch  385]\tacc:  1.0000\tloss:  0.016080\n",
            "[Epoch  386]\tacc:  1.0000\tloss:  0.016001\n",
            "[Epoch  387]\tacc:  1.0000\tloss:  0.015923\n",
            "[Epoch  388]\tacc:  1.0000\tloss:  0.015845\n",
            "[Epoch  389]\tacc:  1.0000\tloss:  0.015768\n",
            "[Epoch  390]\tacc:  1.0000\tloss:  0.015691\n",
            "[Epoch  391]\tacc:  1.0000\tloss:  0.015616\n",
            "[Epoch  392]\tacc:  1.0000\tloss:  0.015540\n",
            "[Epoch  393]\tacc:  1.0000\tloss:  0.015466\n",
            "[Epoch  394]\tacc:  1.0000\tloss:  0.015392\n",
            "[Epoch  395]\tacc:  1.0000\tloss:  0.015318\n",
            "[Epoch  396]\tacc:  1.0000\tloss:  0.015246\n",
            "[Epoch  397]\tacc:  1.0000\tloss:  0.015173\n",
            "[Epoch  398]\tacc:  1.0000\tloss:  0.015102\n",
            "[Epoch  399]\tacc:  1.0000\tloss:  0.015031\n",
            "[Epoch  400]\tacc:  1.0000\tloss:  0.014960\n",
            "[Epoch  401]\tacc:  1.0000\tloss:  0.014890\n",
            "[Epoch  402]\tacc:  1.0000\tloss:  0.014821\n",
            "[Epoch  403]\tacc:  1.0000\tloss:  0.014752\n",
            "[Epoch  404]\tacc:  1.0000\tloss:  0.014684\n",
            "[Epoch  405]\tacc:  1.0000\tloss:  0.014616\n",
            "[Epoch  406]\tacc:  1.0000\tloss:  0.014549\n",
            "[Epoch  407]\tacc:  1.0000\tloss:  0.014483\n",
            "[Epoch  408]\tacc:  1.0000\tloss:  0.014416\n",
            "[Epoch  409]\tacc:  1.0000\tloss:  0.014351\n",
            "[Epoch  410]\tacc:  1.0000\tloss:  0.014286\n",
            "[Epoch  411]\tacc:  1.0000\tloss:  0.014221\n",
            "[Epoch  412]\tacc:  1.0000\tloss:  0.014157\n",
            "[Epoch  413]\tacc:  1.0000\tloss:  0.014093\n",
            "[Epoch  414]\tacc:  1.0000\tloss:  0.014030\n",
            "[Epoch  415]\tacc:  1.0000\tloss:  0.013968\n",
            "[Epoch  416]\tacc:  1.0000\tloss:  0.013906\n",
            "[Epoch  417]\tacc:  1.0000\tloss:  0.013844\n",
            "[Epoch  418]\tacc:  1.0000\tloss:  0.013783\n",
            "[Epoch  419]\tacc:  1.0000\tloss:  0.013722\n",
            "[Epoch  420]\tacc:  1.0000\tloss:  0.013662\n",
            "[Epoch  421]\tacc:  1.0000\tloss:  0.013602\n",
            "[Epoch  422]\tacc:  1.0000\tloss:  0.013542\n",
            "[Epoch  423]\tacc:  1.0000\tloss:  0.013484\n",
            "[Epoch  424]\tacc:  1.0000\tloss:  0.013425\n",
            "[Epoch  425]\tacc:  1.0000\tloss:  0.013367\n",
            "[Epoch  426]\tacc:  1.0000\tloss:  0.013309\n",
            "[Epoch  427]\tacc:  1.0000\tloss:  0.013252\n",
            "[Epoch  428]\tacc:  1.0000\tloss:  0.013195\n",
            "[Epoch  429]\tacc:  1.0000\tloss:  0.013139\n",
            "[Epoch  430]\tacc:  1.0000\tloss:  0.013083\n",
            "[Epoch  431]\tacc:  1.0000\tloss:  0.013028\n",
            "[Epoch  432]\tacc:  1.0000\tloss:  0.012973\n",
            "[Epoch  433]\tacc:  1.0000\tloss:  0.012918\n",
            "[Epoch  434]\tacc:  1.0000\tloss:  0.012864\n",
            "[Epoch  435]\tacc:  1.0000\tloss:  0.012810\n",
            "[Epoch  436]\tacc:  1.0000\tloss:  0.012756\n",
            "[Epoch  437]\tacc:  1.0000\tloss:  0.012703\n",
            "[Epoch  438]\tacc:  1.0000\tloss:  0.012650\n",
            "[Epoch  439]\tacc:  1.0000\tloss:  0.012598\n",
            "[Epoch  440]\tacc:  1.0000\tloss:  0.012546\n",
            "[Epoch  441]\tacc:  1.0000\tloss:  0.012494\n",
            "[Epoch  442]\tacc:  1.0000\tloss:  0.012443\n",
            "[Epoch  443]\tacc:  1.0000\tloss:  0.012392\n",
            "[Epoch  444]\tacc:  1.0000\tloss:  0.012342\n",
            "[Epoch  445]\tacc:  1.0000\tloss:  0.012292\n",
            "[Epoch  446]\tacc:  1.0000\tloss:  0.012242\n",
            "[Epoch  447]\tacc:  1.0000\tloss:  0.012192\n",
            "[Epoch  448]\tacc:  1.0000\tloss:  0.012143\n",
            "[Epoch  449]\tacc:  1.0000\tloss:  0.012094\n",
            "[Epoch  450]\tacc:  1.0000\tloss:  0.012046\n",
            "[Epoch  451]\tacc:  1.0000\tloss:  0.011998\n",
            "[Epoch  452]\tacc:  1.0000\tloss:  0.011950\n",
            "[Epoch  453]\tacc:  1.0000\tloss:  0.011903\n",
            "[Epoch  454]\tacc:  1.0000\tloss:  0.011856\n",
            "[Epoch  455]\tacc:  1.0000\tloss:  0.011809\n",
            "[Epoch  456]\tacc:  1.0000\tloss:  0.011762\n",
            "[Epoch  457]\tacc:  1.0000\tloss:  0.011716\n",
            "[Epoch  458]\tacc:  1.0000\tloss:  0.011670\n",
            "[Epoch  459]\tacc:  1.0000\tloss:  0.011625\n",
            "[Epoch  460]\tacc:  1.0000\tloss:  0.011580\n",
            "[Epoch  461]\tacc:  1.0000\tloss:  0.011535\n",
            "[Epoch  462]\tacc:  1.0000\tloss:  0.011490\n",
            "[Epoch  463]\tacc:  1.0000\tloss:  0.011446\n",
            "[Epoch  464]\tacc:  1.0000\tloss:  0.011402\n",
            "[Epoch  465]\tacc:  1.0000\tloss:  0.011358\n",
            "[Epoch  466]\tacc:  1.0000\tloss:  0.011315\n",
            "[Epoch  467]\tacc:  1.0000\tloss:  0.011272\n",
            "[Epoch  468]\tacc:  1.0000\tloss:  0.011229\n",
            "[Epoch  469]\tacc:  1.0000\tloss:  0.011187\n",
            "[Epoch  470]\tacc:  1.0000\tloss:  0.011144\n",
            "[Epoch  471]\tacc:  1.0000\tloss:  0.011102\n",
            "[Epoch  472]\tacc:  1.0000\tloss:  0.011061\n",
            "[Epoch  473]\tacc:  1.0000\tloss:  0.011019\n",
            "[Epoch  474]\tacc:  1.0000\tloss:  0.010978\n",
            "[Epoch  475]\tacc:  1.0000\tloss:  0.010937\n",
            "[Epoch  476]\tacc:  1.0000\tloss:  0.010897\n",
            "[Epoch  477]\tacc:  1.0000\tloss:  0.010856\n",
            "[Epoch  478]\tacc:  1.0000\tloss:  0.010816\n",
            "[Epoch  479]\tacc:  1.0000\tloss:  0.010776\n",
            "[Epoch  480]\tacc:  1.0000\tloss:  0.010737\n",
            "[Epoch  481]\tacc:  1.0000\tloss:  0.010697\n",
            "[Epoch  482]\tacc:  1.0000\tloss:  0.010658\n",
            "[Epoch  483]\tacc:  1.0000\tloss:  0.010620\n",
            "[Epoch  484]\tacc:  1.0000\tloss:  0.010581\n",
            "[Epoch  485]\tacc:  1.0000\tloss:  0.010543\n",
            "[Epoch  486]\tacc:  1.0000\tloss:  0.010505\n",
            "[Epoch  487]\tacc:  1.0000\tloss:  0.010467\n",
            "[Epoch  488]\tacc:  1.0000\tloss:  0.010429\n",
            "[Epoch  489]\tacc:  1.0000\tloss:  0.010392\n",
            "[Epoch  490]\tacc:  1.0000\tloss:  0.010355\n",
            "[Epoch  491]\tacc:  1.0000\tloss:  0.010318\n",
            "[Epoch  492]\tacc:  1.0000\tloss:  0.010281\n",
            "[Epoch  493]\tacc:  1.0000\tloss:  0.010245\n",
            "[Epoch  494]\tacc:  1.0000\tloss:  0.010209\n",
            "[Epoch  495]\tacc:  1.0000\tloss:  0.010173\n",
            "[Epoch  496]\tacc:  1.0000\tloss:  0.010137\n",
            "[Epoch  497]\tacc:  1.0000\tloss:  0.010102\n",
            "[Epoch  498]\tacc:  1.0000\tloss:  0.010066\n",
            "[Epoch  499]\tacc:  1.0000\tloss:  0.010031\n"
          ]
        },
        {
          "output_type": "execute_result",
          "data": {
            "text/plain": [
              "Embedding(34, 16)"
            ]
          },
          "metadata": {},
          "execution_count": 25
        }
      ]
    },
    {
      "cell_type": "markdown",
      "metadata": {
        "id": "WX2PSXnTDiNi"
      },
      "source": [
        "## Visualize the final node embeddings\n",
        "Visualize your final embedding here!\n",
        "You can visually compare the figure with the previous embedding figure.\n",
        "After training, you should oberserve that the two classes are more evidently separated.\n",
        "This is a great sanitity check for your implementation as well."
      ]
    },
    {
      "cell_type": "code",
      "metadata": {
        "id": "MtNgl4VhYKow",
        "colab": {
          "base_uri": "https://localhost:8080/",
          "height": 522
        },
        "outputId": "5d9782cb-017b-4910-e962-8d909febdc60"
      },
      "source": [
        "# Visualize the final learned embedding\n",
        "visualize_emb(emb)"
      ],
      "execution_count": 28,
      "outputs": [
        {
          "output_type": "display_data",
          "data": {
            "text/plain": [
              "<Figure size 600x600 with 1 Axes>"
            ],
            "image/png": "[encoded data removed]"
          },
          "metadata": {}
        }
      ]
    },
    {
      "cell_type": "markdown",
      "metadata": {
        "id": "FTNyrAoSVeq9"
      },
      "source": [
        "# Submission"
      ]
    },
    {
      "cell_type": "markdown",
      "metadata": {
        "id": "E_E7J_GkVhY_"
      },
      "source": [
        "When you submit your assignment, you will have to download this file as an `.ipynb` file. Please name this file `CS224W_Colab_1.ipynb`. Make sure that the files are name correctly, otherwise the autograder will not be able to find your submission files."
      ]
    },
    {
      "cell_type": "code",
      "source": [],
      "metadata": {
        "id": "0W-nxh-wgZ-V"
      },
      "execution_count": null,
      "outputs": []
    }
  ]
}